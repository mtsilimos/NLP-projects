{
  "nbformat": 4,
  "nbformat_minor": 0,
  "metadata": {
    "colab": {
      "provenance": [],
      "gpuType": "T4",
      "authorship_tag": "ABX9TyPJL6ZuljPJPLJLD5yxarRy",
      "include_colab_link": true
    },
    "kernelspec": {
      "name": "python3",
      "display_name": "Python 3"
    },
    "language_info": {
      "name": "python"
    },
    "accelerator": "GPU"
  },
  "cells": [
    {
      "cell_type": "markdown",
      "metadata": {
        "id": "view-in-github",
        "colab_type": "text"
      },
      "source": [
        "<a href=\"https://colab.research.google.com/github/mtsilimos/NLP-projects/blob/main/2Keras_for_researchers_MODEL.ipynb\" target=\"_parent\"><img src=\"https://colab.research.google.com/assets/colab-badge.svg\" alt=\"Open In Colab\"/></a>"
      ]
    },
    {
      "cell_type": "code",
      "source": [
        "import numpy as np\n",
        "import tensorflow as tf\n",
        "import keras\n",
        "from keras import layers"
      ],
      "metadata": {
        "id": "-d80UPuHZQba"
      },
      "execution_count": 2,
      "outputs": []
    },
    {
      "cell_type": "code",
      "source": [
        "#(input: 784-dimensional vectors)\n",
        "\n",
        "#[Dense (64 units, relu activation)]\n",
        "\n",
        "#[Dense (64 units, relu activation)]\n",
        "\n",
        "#[Dense (10 units, softmax activation)]\n",
        "\n",
        "#(output: logits of a probability distribution over 10 classes)\n",
        "#This is a basic graph with three layers. To build this model using the functional API, start by creating an input node"
      ],
      "metadata": {
        "id": "VuRC-2-sbffP"
      },
      "execution_count": 3,
      "outputs": []
    },
    {
      "cell_type": "code",
      "source": [
        "inputs = keras.Input(shape=(784,))"
      ],
      "metadata": {
        "id": "nUNOOOagbhbg"
      },
      "execution_count": 4,
      "outputs": []
    },
    {
      "cell_type": "code",
      "source": [
        "#The shape of the data is set as a 784-dimensional vector\n",
        "#The None in the shape tuple represents the batch size. This means that the model can take input with any batch size\n",
        "\n",
        "inputs.shape"
      ],
      "metadata": {
        "colab": {
          "base_uri": "https://localhost:8080/"
        },
        "id": "iLRWPh7Obj32",
        "outputId": "d2c7c1c5-a32d-401a-8052-230815b43147"
      },
      "execution_count": 5,
      "outputs": [
        {
          "output_type": "execute_result",
          "data": {
            "text/plain": [
              "TensorShape([None, 784])"
            ]
          },
          "metadata": {},
          "execution_count": 5
        }
      ]
    },
    {
      "cell_type": "code",
      "source": [
        "# 32 uses 32 bits of memory (less accurate but fast)\n",
        "\n",
        "inputs.dtype"
      ],
      "metadata": {
        "colab": {
          "base_uri": "https://localhost:8080/"
        },
        "id": "gfs5S5y5bmiV",
        "outputId": "cc8c8b79-8188-436b-c51b-10aa36356e00"
      },
      "execution_count": 6,
      "outputs": [
        {
          "output_type": "execute_result",
          "data": {
            "text/plain": [
              "tf.float32"
            ]
          },
          "metadata": {},
          "execution_count": 6
        }
      ]
    },
    {
      "cell_type": "code",
      "source": [
        "#You create a new node in the graph of layers by calling a layer on this inputs object\n",
        "#The \"layer call\" action is like drawing an arrow from \"inputs\" to this layer you created.\n",
        "#You're \"passing\" the inputs to the dense layer, and you get x as the output.\n",
        "dense = layers.Dense(64, activation=\"relu\")\n",
        "x = dense(inputs)\n",
        "x.shape"
      ],
      "metadata": {
        "colab": {
          "base_uri": "https://localhost:8080/"
        },
        "id": "4t6iu6YSbp6V",
        "outputId": "7dc40ec4-cf5f-4403-983b-c034a98b553f"
      },
      "execution_count": 7,
      "outputs": [
        {
          "output_type": "execute_result",
          "data": {
            "text/plain": [
              "TensorShape([None, 64])"
            ]
          },
          "metadata": {},
          "execution_count": 7
        }
      ]
    },
    {
      "cell_type": "code",
      "source": [
        "x = layers.Dense(64, activation=\"relu\")(x)\n",
        "x.shape\n"
      ],
      "metadata": {
        "colab": {
          "base_uri": "https://localhost:8080/"
        },
        "id": "UmAJEjEebth_",
        "outputId": "0b87aecc-92aa-4330-e67c-257598830c2f"
      },
      "execution_count": 8,
      "outputs": [
        {
          "output_type": "execute_result",
          "data": {
            "text/plain": [
              "TensorShape([None, 64])"
            ]
          },
          "metadata": {},
          "execution_count": 8
        }
      ]
    },
    {
      "cell_type": "code",
      "source": [
        "outputs = layers.Dense(10)(x)\n",
        "outputs.shape"
      ],
      "metadata": {
        "colab": {
          "base_uri": "https://localhost:8080/"
        },
        "id": "vVqWVv4ibuI9",
        "outputId": "a343956b-f843-4d89-fcff-ca00afb7ce1b"
      },
      "execution_count": 9,
      "outputs": [
        {
          "output_type": "execute_result",
          "data": {
            "text/plain": [
              "TensorShape([None, 10])"
            ]
          },
          "metadata": {},
          "execution_count": 9
        }
      ]
    },
    {
      "cell_type": "code",
      "source": [
        "#At this point, you can create a Model by specifying its inputs and outputs in the graph of layers\n",
        "model = keras.Model(inputs=inputs, outputs=outputs, name=\"mnist_model\")\n",
        "model.summary()"
      ],
      "metadata": {
        "colab": {
          "base_uri": "https://localhost:8080/"
        },
        "id": "DMNFApq_bv0R",
        "outputId": "407a06db-aaf0-454d-d265-10c7c568246c"
      },
      "execution_count": 10,
      "outputs": [
        {
          "output_type": "stream",
          "name": "stdout",
          "text": [
            "Model: \"mnist_model\"\n",
            "_________________________________________________________________\n",
            " Layer (type)                Output Shape              Param #   \n",
            "=================================================================\n",
            " input_1 (InputLayer)        [(None, 784)]             0         \n",
            "                                                                 \n",
            " dense (Dense)               (None, 64)                50240     \n",
            "                                                                 \n",
            " dense_1 (Dense)             (None, 64)                4160      \n",
            "                                                                 \n",
            " dense_2 (Dense)             (None, 10)                650       \n",
            "                                                                 \n",
            "=================================================================\n",
            "Total params: 55050 (215.04 KB)\n",
            "Trainable params: 55050 (215.04 KB)\n",
            "Non-trainable params: 0 (0.00 Byte)\n",
            "_________________________________________________________________\n"
          ]
        }
      ]
    },
    {
      "cell_type": "code",
      "source": [
        "keras.utils.plot_model(model, \"my_first_model.png\")\n",
        ""
      ],
      "metadata": {
        "colab": {
          "base_uri": "https://localhost:8080/",
          "height": 369
        },
        "id": "xvyK_-xBbxmv",
        "outputId": "a6516310-5a4c-4c9b-f8bf-63b80a8f75e2"
      },
      "execution_count": 11,
      "outputs": [
        {
          "output_type": "execute_result",
          "data": {
            "image/png": "[encoded data removed]",
            "text/plain": [
              "<IPython.core.display.Image object>"
            ]
          },
          "metadata": {},
          "execution_count": 11
        }
      ]
    },
    {
      "cell_type": "code",
      "source": [
        "#In the code version, the connection arrows are replaced by the call operation.\n",
        "\n",
        "#A \"graph of layers\" is an intuitive mental image for a deep learning model,\n",
        "#and the functional API is a way to create models that closely mirrors this.\n",
        "\n",
        "keras.utils.plot_model(model, \"my_first_model_with_shape_info.png\", show_shapes=True)"
      ],
      "metadata": {
        "colab": {
          "base_uri": "https://localhost:8080/",
          "height": 422
        },
        "id": "z2BRLo0mbz5r",
        "outputId": "1bea60c5-eb5c-4b23-ea6f-aae82471c7bc"
      },
      "execution_count": 13,
      "outputs": [
        {
          "output_type": "execute_result",
          "data": {
            "image/png": "[encoded data removed]",
            "text/plain": [
              "<IPython.core.display.Image object>"
            ]
          },
          "metadata": {},
          "execution_count": 13
        }
      ]
    },
    {
      "cell_type": "code",
      "source": [
        "#The Model class offers a built-in training loop (the fit() method) and a built-in evaluation loop (the evaluate() method).\n",
        "#Note that you can easily customize these loops to implement training routines\n",
        "\n",
        "\n",
        "#fit the model on the data (while monitoring performance on a validation split)\n",
        "#then evaluate the model on the test data"
      ],
      "metadata": {
        "id": "biEc4LY0b19r"
      },
      "execution_count": 14,
      "outputs": []
    },
    {
      "cell_type": "code",
      "source": [
        "#load the MNIST image data\n",
        "(x_train, y_train), (x_test, y_test) = keras.datasets.mnist.load_data()"
      ],
      "metadata": {
        "colab": {
          "base_uri": "https://localhost:8080/"
        },
        "id": "94U5SORTb367",
        "outputId": "0ac88838-e6ed-44e2-8fa6-71c81be2f66d"
      },
      "execution_count": 15,
      "outputs": [
        {
          "output_type": "stream",
          "name": "stdout",
          "text": [
            "Downloading data from https://storage.googleapis.com/tensorflow/tf-keras-datasets/mnist.npz\n",
            "11490434/11490434 [==============================] - 0s 0us/step\n"
          ]
        }
      ]
    },
    {
      "cell_type": "code",
      "source": [
        "#reshape the image data into vectors\n",
        "x_train = x_train.reshape(60000, 784).astype(\"float32\") / 255\n",
        "x_test = x_test.reshape(10000, 784).astype(\"float32\") / 255"
      ],
      "metadata": {
        "id": "jadGVrBGb5jN"
      },
      "execution_count": 16,
      "outputs": []
    },
    {
      "cell_type": "code",
      "source": [
        "x_train.shape"
      ],
      "metadata": {
        "colab": {
          "base_uri": "https://localhost:8080/"
        },
        "id": "M6t-X9-Hb7it",
        "outputId": "6a968374-5452-493e-e632-7f815d0e7e0a"
      },
      "execution_count": 17,
      "outputs": [
        {
          "output_type": "execute_result",
          "data": {
            "text/plain": [
              "(60000, 784)"
            ]
          },
          "metadata": {},
          "execution_count": 17
        }
      ]
    },
    {
      "cell_type": "code",
      "source": [
        "model.compile(\n",
        "    loss=keras.losses.SparseCategoricalCrossentropy(from_logits=True),\n",
        "    optimizer=keras.optimizers.RMSprop(),\n",
        "    metrics=[keras.metrics.SparseCategoricalAccuracy()],\n",
        ")"
      ],
      "metadata": {
        "id": "QrAC6e84b9Ez"
      },
      "execution_count": 18,
      "outputs": []
    },
    {
      "cell_type": "code",
      "source": [
        "history = model.fit(x_train, y_train, batch_size=64, epochs=2, validation_split=0.2)"
      ],
      "metadata": {
        "colab": {
          "base_uri": "https://localhost:8080/"
        },
        "id": "GMVZPR-hb_HC",
        "outputId": "de6ca107-fad3-459d-88c8-21aecb7f9bc0"
      },
      "execution_count": 19,
      "outputs": [
        {
          "output_type": "stream",
          "name": "stdout",
          "text": [
            "Epoch 1/2\n",
            "750/750 [==============================] - 8s 4ms/step - loss: 0.3386 - sparse_categorical_accuracy: 0.9045 - val_loss: 0.1768 - val_sparse_categorical_accuracy: 0.9514\n",
            "Epoch 2/2\n",
            "750/750 [==============================] - 3s 3ms/step - loss: 0.1607 - sparse_categorical_accuracy: 0.9520 - val_loss: 0.1453 - val_sparse_categorical_accuracy: 0.9581\n"
          ]
        }
      ]
    },
    {
      "cell_type": "code",
      "source": [
        "#verbose = 0 (silent)\n",
        "#verbose = 1: a progress bar\n",
        "# verbose = 2: one line per epoch\n",
        "\n",
        "test_scores = model.evaluate(x_test, y_test, verbose = 2)\n",
        "print(\"Test loss:\", test_scores[0])\n",
        "print(\"Test accuracy:\", test_scores[1])\n",
        ""
      ],
      "metadata": {
        "colab": {
          "base_uri": "https://localhost:8080/"
        },
        "id": "OFx6X3ALcCFB",
        "outputId": "95948759-ceaf-4897-d38e-5f41e626303b"
      },
      "execution_count": 20,
      "outputs": [
        {
          "output_type": "stream",
          "name": "stdout",
          "text": [
            "313/313 - 1s - loss: 0.1449 - sparse_categorical_accuracy: 0.9563 - 603ms/epoch - 2ms/step\n",
            "Test loss: 0.14490336179733276\n",
            "Test accuracy: 0.9563000202178955\n"
          ]
        }
      ]
    },
    {
      "cell_type": "code",
      "source": [
        "#Saving the model and serialization\n",
        "#The standard way to save a functional model is to call model.save() to save the entire model as a single file\n",
        "#You can later recreate the same model from this file, even if the code that built the model is no longer available.\n",
        "\n",
        "#This saved file includes the:\n",
        "#- model architecture\n",
        "#- model weight values (that were learned during training)\n",
        "#- model training config, if any (as passed to compile)\n",
        "#- optimizer and its state, if any (to restart training where you left off)"
      ],
      "metadata": {
        "id": "oja2QGbwd91V"
      },
      "execution_count": 21,
      "outputs": []
    },
    {
      "cell_type": "code",
      "source": [
        "model.save(\"path_to_my_model.keras\")\n",
        "del model\n"
      ],
      "metadata": {
        "id": "IdHdH2B0ePPe"
      },
      "execution_count": 22,
      "outputs": []
    },
    {
      "cell_type": "code",
      "source": [
        "# Recreate the exact same model purely from the file:\n",
        "model = keras.models.load_model(\"path_to_my_model.keras\")\n",
        "model"
      ],
      "metadata": {
        "colab": {
          "base_uri": "https://localhost:8080/"
        },
        "id": "p76u4qVGeUwU",
        "outputId": "4b8c6edc-efe2-4dcf-d262-b560e8e8b031"
      },
      "execution_count": 24,
      "outputs": [
        {
          "output_type": "execute_result",
          "data": {
            "text/plain": [
              "<keras.src.engine.functional.Functional at 0x78d3e90d9870>"
            ]
          },
          "metadata": {},
          "execution_count": 24
        }
      ]
    },
    {
      "cell_type": "code",
      "source": [
        "history = model.fit(x_train, y_train, batch_size=64, epochs=2, validation_split=0.2)"
      ],
      "metadata": {
        "colab": {
          "base_uri": "https://localhost:8080/"
        },
        "id": "SjCwifWUebJT",
        "outputId": "06af9e72-e4b2-4d23-9ab2-e0f1e30eea8a"
      },
      "execution_count": 25,
      "outputs": [
        {
          "output_type": "stream",
          "name": "stdout",
          "text": [
            "Epoch 1/2\n",
            "750/750 [==============================] - 4s 4ms/step - loss: 0.1175 - sparse_categorical_accuracy: 0.9654 - val_loss: 0.1170 - val_sparse_categorical_accuracy: 0.9649\n",
            "Epoch 2/2\n",
            "750/750 [==============================] - 3s 3ms/step - loss: 0.0924 - sparse_categorical_accuracy: 0.9721 - val_loss: 0.1045 - val_sparse_categorical_accuracy: 0.9682\n"
          ]
        }
      ]
    }
  ]
}
