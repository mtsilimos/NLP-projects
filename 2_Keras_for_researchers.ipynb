{
  "nbformat": 4,
  "nbformat_minor": 0,
  "metadata": {
    "colab": {
      "provenance": [],
      "gpuType": "T4",
      "authorship_tag": "ABX9TyPO+D25RTye6nIhR60wy6aD",
      "include_colab_link": true
    },
    "kernelspec": {
      "name": "python3",
      "display_name": "Python 3"
    },
    "language_info": {
      "name": "python"
    },
    "accelerator": "GPU"
  },
  "cells": [
    {
      "cell_type": "markdown",
      "metadata": {
        "id": "view-in-github",
        "colab_type": "text"
      },
      "source": [
        "<a href=\"https://colab.research.google.com/github/mtsilimos/NLP-projects/blob/main/2_Keras_for_researchers.ipynb\" target=\"_parent\"><img src=\"https://colab.research.google.com/assets/colab-badge.svg\" alt=\"Open In Colab\"/></a>"
      ]
    },
    {
      "cell_type": "code",
      "execution_count": 1,
      "metadata": {
        "id": "3PwoG_zznwC9"
      },
      "outputs": [],
      "source": [
        "import numpy as np\n",
        "import tensorflow as tf\n",
        "import keras\n",
        "from keras import layers"
      ]
    },
    {
      "cell_type": "code",
      "source": [
        "#(input: 784-dimensional vectors)\n",
        "\n",
        "#[Dense (64 units, relu activation)]\n",
        "\n",
        "#[Dense (64 units, relu activation)]\n",
        "\n",
        "#[Dense (10 units, softmax activation)]\n",
        "\n",
        "#(output: logits of a probability distribution over 10 classes)\n",
        "#This is a basic graph with three layers. To build this model using the functional API, start by creating an input node"
      ],
      "metadata": {
        "id": "5VMmzw6jn-uJ"
      },
      "execution_count": 3,
      "outputs": []
    },
    {
      "cell_type": "code",
      "source": [
        "inputs = keras.Input(shape=(784,))"
      ],
      "metadata": {
        "id": "6YeCGU8aoEgs"
      },
      "execution_count": 4,
      "outputs": []
    },
    {
      "cell_type": "code",
      "source": [
        "#The shape of the data is set as a 784-dimensional vector\n",
        "#The None in the shape tuple represents the batch size. This means that the model can take input with any batch size\n",
        "\n",
        "inputs.shape"
      ],
      "metadata": {
        "colab": {
          "base_uri": "https://localhost:8080/"
        },
        "id": "-5OBea7oobSK",
        "outputId": "b5ad2fbc-2469-4b98-bf24-4b9f011083d3"
      },
      "execution_count": 5,
      "outputs": [
        {
          "output_type": "execute_result",
          "data": {
            "text/plain": [
              "TensorShape([None, 784])"
            ]
          },
          "metadata": {},
          "execution_count": 5
        }
      ]
    },
    {
      "cell_type": "code",
      "source": [
        "inputs.dtype"
      ],
      "metadata": {
        "colab": {
          "base_uri": "https://localhost:8080/"
        },
        "id": "cE5lGtCLonv7",
        "outputId": "4ac61975-494c-4957-911a-7982273c0221"
      },
      "execution_count": 6,
      "outputs": [
        {
          "output_type": "execute_result",
          "data": {
            "text/plain": [
              "tf.float32"
            ]
          },
          "metadata": {},
          "execution_count": 6
        }
      ]
    },
    {
      "cell_type": "code",
      "source": [
        "#You create a new node in the graph of layers by calling a layer on this inputs object\n",
        "#The \"layer call\" action is like drawing an arrow from \"inputs\" to this layer you created.\n",
        "#You're \"passing\" the inputs to the dense layer, and you get x as the output.\n",
        "dense = layers.Dense(64, activation=\"relu\")\n",
        "x = dense(inputs)\n",
        "x.shape"
      ],
      "metadata": {
        "colab": {
          "base_uri": "https://localhost:8080/"
        },
        "id": "9Cl9wgHFo4qe",
        "outputId": "e4d019dc-c929-441c-f81b-ec5f2852ef58"
      },
      "execution_count": 8,
      "outputs": [
        {
          "output_type": "execute_result",
          "data": {
            "text/plain": [
              "TensorShape([None, 64])"
            ]
          },
          "metadata": {},
          "execution_count": 8
        }
      ]
    },
    {
      "cell_type": "code",
      "source": [
        "x = layers.Dense(64, activation=\"relu\")(x)\n",
        "x.shape\n"
      ],
      "metadata": {
        "colab": {
          "base_uri": "https://localhost:8080/"
        },
        "id": "XgNaqlEupyX-",
        "outputId": "f198abd5-c68f-4fcb-a876-44f300350a7c"
      },
      "execution_count": 10,
      "outputs": [
        {
          "output_type": "execute_result",
          "data": {
            "text/plain": [
              "TensorShape([None, 64])"
            ]
          },
          "metadata": {},
          "execution_count": 10
        }
      ]
    },
    {
      "cell_type": "code",
      "source": [
        "outputs = layers.Dense(10)(x)\n",
        "outputs.shape"
      ],
      "metadata": {
        "colab": {
          "base_uri": "https://localhost:8080/"
        },
        "id": "jGpzJccFp7ok",
        "outputId": "48a1fe04-1ecc-49e2-dd6a-cb33ef3ce969"
      },
      "execution_count": 12,
      "outputs": [
        {
          "output_type": "execute_result",
          "data": {
            "text/plain": [
              "TensorShape([None, 10])"
            ]
          },
          "metadata": {},
          "execution_count": 12
        }
      ]
    },
    {
      "cell_type": "code",
      "source": [
        "#At this point, you can create a Model by specifying its inputs and outputs in the graph of layers\n",
        "model = keras.Model(inputs=inputs, outputs=outputs, name=\"mnist_model\")\n",
        "model.summary()"
      ],
      "metadata": {
        "colab": {
          "base_uri": "https://localhost:8080/"
        },
        "id": "p0eCxbUrqLsf",
        "outputId": "b750b859-261e-4fec-a00a-d7b6b84b4cd5"
      },
      "execution_count": 14,
      "outputs": [
        {
          "output_type": "stream",
          "name": "stdout",
          "text": [
            "Model: \"mnist_model\"\n",
            "_________________________________________________________________\n",
            " Layer (type)                Output Shape              Param #   \n",
            "=================================================================\n",
            " input_1 (InputLayer)        [(None, 784)]             0         \n",
            "                                                                 \n",
            " dense_1 (Dense)             (None, 64)                50240     \n",
            "                                                                 \n",
            " dense_2 (Dense)             (None, 64)                4160      \n",
            "                                                                 \n",
            " dense_3 (Dense)             (None, 64)                4160      \n",
            "                                                                 \n",
            " dense_5 (Dense)             (None, 10)                650       \n",
            "                                                                 \n",
            "=================================================================\n",
            "Total params: 59210 (231.29 KB)\n",
            "Trainable params: 59210 (231.29 KB)\n",
            "Non-trainable params: 0 (0.00 Byte)\n",
            "_________________________________________________________________\n"
          ]
        }
      ]
    },
    {
      "cell_type": "code",
      "source": [
        "keras.utils.plot_model(model, \"my_first_model.png\")"
      ],
      "metadata": {
        "colab": {
          "base_uri": "https://localhost:8080/",
          "height": 466
        },
        "id": "KizoDqzyqrht",
        "outputId": "d0c517e7-016f-46d6-f3ad-ed1bd17311b7"
      },
      "execution_count": 15,
      "outputs": [
        {
          "output_type": "execute_result",
          "data": {
            "image/png": "[encoded data removed]",
            "text/plain": [
              "<IPython.core.display.Image object>"
            ]
          },
          "metadata": {},
          "execution_count": 15
        }
      ]
    },
    {
      "cell_type": "code",
      "source": [
        "#In the code version, the connection arrows are replaced by the call operation.\n",
        "\n",
        "#A \"graph of layers\" is an intuitive mental image for a deep learning model,\n",
        "and the functional API is a way to create models that closely mirrors this.\n",
        "\n",
        "keras.utils.plot_model(model, \"my_first_model_with_shape_info.png\", show_shapes=True)"
      ],
      "metadata": {
        "colab": {
          "base_uri": "https://localhost:8080/",
          "height": 533
        },
        "id": "hw-gYrH6q0Of",
        "outputId": "c62fff32-d637-40f5-c37a-49ee33f0ae1c"
      },
      "execution_count": 16,
      "outputs": [
        {
          "output_type": "execute_result",
          "data": {
            "image/png": "[encoded data removed]",
            "text/plain": [
              "<IPython.core.display.Image object>"
            ]
          },
          "metadata": {},
          "execution_count": 16
        }
      ]
    },
    {
      "cell_type": "code",
      "source": [
        "#The Model class offers a built-in training loop (the fit() method) and a built-in evaluation loop (the evaluate() method).\n",
        "#Note that you can easily customize these loops to implement training routines\n",
        "\n",
        "\n",
        "#fit the model on the data (while monitoring performance on a validation split)\n",
        "#then evaluate the model on the test data"
      ],
      "metadata": {
        "id": "Kg9q7BRMrJzy"
      },
      "execution_count": 17,
      "outputs": []
    },
    {
      "cell_type": "code",
      "source": [
        "#load the MNIST image data\n",
        "(x_train, y_train), (x_test, y_test) = keras.datasets.mnist.load_data()\n",
        "\n"
      ],
      "metadata": {
        "colab": {
          "base_uri": "https://localhost:8080/"
        },
        "id": "A8jCpAOGr0q4",
        "outputId": "64c139dd-b34d-4ebc-c572-400800a1d7a6"
      },
      "execution_count": 18,
      "outputs": [
        {
          "output_type": "stream",
          "name": "stdout",
          "text": [
            "Downloading data from https://storage.googleapis.com/tensorflow/tf-keras-datasets/mnist.npz\n",
            "11490434/11490434 [==============================] - 0s 0us/step\n"
          ]
        }
      ]
    },
    {
      "cell_type": "code",
      "source": [
        "#reshape the image data into vectors\n",
        "x_train = x_train.reshape(60000, 784).astype(\"float32\") / 255\n",
        "x_test = x_test.reshape(10000, 784).astype(\"float32\") / 255"
      ],
      "metadata": {
        "id": "sHlZf6pzr4qq"
      },
      "execution_count": 19,
      "outputs": []
    },
    {
      "cell_type": "code",
      "source": [
        "x_train.shape"
      ],
      "metadata": {
        "colab": {
          "base_uri": "https://localhost:8080/"
        },
        "id": "WxkWt3j7sCwd",
        "outputId": "f9e6ffa4-0331-4a36-f4ba-87ced362fbeb"
      },
      "execution_count": 22,
      "outputs": [
        {
          "output_type": "execute_result",
          "data": {
            "text/plain": [
              "(60000, 784)"
            ]
          },
          "metadata": {},
          "execution_count": 22
        }
      ]
    },
    {
      "cell_type": "code",
      "source": [
        "model.compile(\n",
        "    loss=keras.losses.SparseCategoricalCrossentropy(from_logits=True),\n",
        "    optimizer=keras.optimizers.RMSprop(),\n",
        "    metrics=[keras.metrics.SparseCategoricalAccuracy()],\n",
        ")"
      ],
      "metadata": {
        "id": "i9yhhtQ5sUP5"
      },
      "execution_count": 23,
      "outputs": []
    },
    {
      "cell_type": "code",
      "source": [
        "#fit the model on the data (while monitoring performance on a validation split)\n",
        "\n",
        "history = model.fit(x_train, y_train, batch_size=64, epochs=2, validation_split=0.2)"
      ],
      "metadata": {
        "colab": {
          "base_uri": "https://localhost:8080/"
        },
        "id": "1cODwYKCsY67",
        "outputId": "1e077f88-6311-4753-d63c-6f54c0a518f4"
      },
      "execution_count": 24,
      "outputs": [
        {
          "output_type": "stream",
          "name": "stdout",
          "text": [
            "Epoch 1/2\n",
            "750/750 [==============================] - 8s 4ms/step - loss: 0.3399 - sparse_categorical_accuracy: 0.8997 - val_loss: 0.2010 - val_sparse_categorical_accuracy: 0.9417\n",
            "Epoch 2/2\n",
            "750/750 [==============================] - 3s 4ms/step - loss: 0.1498 - sparse_categorical_accuracy: 0.9543 - val_loss: 0.1278 - val_sparse_categorical_accuracy: 0.9628\n"
          ]
        }
      ]
    },
    {
      "cell_type": "code",
      "source": [
        "#verbose = 0 (silent)\n",
        "#verbose = 1: a progress bar\n",
        "# verbose = 2: one line per epoch\n",
        "\n",
        "test_scores = model.evaluate(x_test, y_test, verbose = 2)\n",
        "print(\"Test loss:\", test_scores[0])\n",
        "print(\"Test accuracy:\", test_scores[1])"
      ],
      "metadata": {
        "colab": {
          "base_uri": "https://localhost:8080/"
        },
        "id": "ixOQzygOsHu8",
        "outputId": "192c1279-c8de-48a4-b542-42421fd51d4d"
      },
      "execution_count": 42,
      "outputs": [
        {
          "output_type": "stream",
          "name": "stdout",
          "text": [
            "313/313 - 1s - loss: 0.1267 - sparse_categorical_accuracy: 0.9603 - 579ms/epoch - 2ms/step\n",
            "Test loss: 0.12672114372253418\n",
            "Test accuracy: 0.9603000283241272\n"
          ]
        }
      ]
    }
  ]
}