{
  "nbformat": 4,
  "nbformat_minor": 0,
  "metadata": {
    "colab": {
      "provenance": [],
      "gpuType": "T4",
      "authorship_tag": "ABX9TyNUZ8gh1if8dEnaonso6+3K",
      "include_colab_link": true
    },
    "kernelspec": {
      "name": "python3",
      "display_name": "Python 3"
    },
    "language_info": {
      "name": "python"
    },
    "accelerator": "GPU"
  },
  "cells": [
    {
      "cell_type": "markdown",
      "metadata": {
        "id": "view-in-github",
        "colab_type": "text"
      },
      "source": [
        "<a href=\"https://colab.research.google.com/github/mtsilimos/NLP-projects/blob/main/1_Keras_for_researchers.ipynb\" target=\"_parent\"><img src=\"https://colab.research.google.com/assets/colab-badge.svg\" alt=\"Open In Colab\"/></a>"
      ]
    },
    {
      "cell_type": "code",
      "source": [
        "import tensorflow as tf\n",
        "import keras"
      ],
      "metadata": {
        "id": "aC6NZhQDvcZr"
      },
      "execution_count": 10,
      "outputs": []
    },
    {
      "cell_type": "code",
      "source": [
        "#TensorFlow is an infrastructure layer for differentiable programming.\n",
        "#At its heart, it's a framework for manipulating N-dimensional arrays (tensors)\n",
        "\n",
        "#TensorFlow can leverage hardware accelerators such as GPUs and TPUs.\n",
        "#TensorFlow can automatically compute the gradient\n",
        "#of arbitrary differentiable tensor expressions.\n",
        "#TensorFlow computation can be distributed to large numbers of devices on a single machine\n",
        "#and large number of machines (potentially with multiple devices each)."
      ],
      "metadata": {
        "id": "RnQwxEOG1ONf"
      },
      "execution_count": 17,
      "outputs": []
    },
    {
      "cell_type": "code",
      "source": [
        "#constant tensor\n",
        "x = tf.constant([[5, 2], [1, 3]]) #this needs to be the same number\n",
        "print(x)"
      ],
      "metadata": {
        "colab": {
          "base_uri": "https://localhost:8080/"
        },
        "id": "6ym3T5N5vf7T",
        "outputId": "2a9a66b9-0a3c-43f3-c6d8-b428ba487cac"
      },
      "execution_count": 13,
      "outputs": [
        {
          "output_type": "stream",
          "name": "stdout",
          "text": [
            "tf.Tensor(\n",
            "[[5 2]\n",
            " [1 3]], shape=(2, 2), dtype=int32)\n"
          ]
        }
      ]
    },
    {
      "cell_type": "code",
      "source": [
        "#it features the attribute dtype\n",
        "print(\"dtype:\", x.dtype)\n",
        "# int32 means 4 bytes,\n",
        "#A 32-bit signed integer whose values exist on the interval [−2,147,483,647, +2,147,483,647]"
      ],
      "metadata": {
        "colab": {
          "base_uri": "https://localhost:8080/"
        },
        "id": "4RWG4Fr4zBTg",
        "outputId": "234732b4-2356-4e2b-a1c6-f6bfde66b50b"
      },
      "execution_count": 14,
      "outputs": [
        {
          "output_type": "stream",
          "name": "stdout",
          "text": [
            "dtype: <dtype: 'int32'>\n"
          ]
        }
      ]
    },
    {
      "cell_type": "code",
      "source": [
        "#it features the attribute shape\n",
        "print(\"shape:\", x.shape)"
      ],
      "metadata": {
        "colab": {
          "base_uri": "https://localhost:8080/"
        },
        "id": "MeQTJGcDy5TZ",
        "outputId": "08bb13f2-1438-4035-8264-82b2e173fba9"
      },
      "execution_count": 16,
      "outputs": [
        {
          "output_type": "stream",
          "name": "stdout",
          "text": [
            "shape: (2, 2)\n"
          ]
        }
      ]
    }
  ]
}