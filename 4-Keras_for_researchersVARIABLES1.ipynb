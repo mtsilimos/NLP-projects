{
  "nbformat": 4,
  "nbformat_minor": 0,
  "metadata": {
    "colab": {
      "provenance": [],
      "authorship_tag": "ABX9TyNRPsCapgrPGciN1A5fVThI",
      "include_colab_link": true
    },
    "kernelspec": {
      "name": "python3",
      "display_name": "Python 3"
    },
    "language_info": {
      "name": "python"
    }
  },
  "cells": [
    {
      "cell_type": "markdown",
      "metadata": {
        "id": "view-in-github",
        "colab_type": "text"
      },
      "source": [
        "<a href=\"https://colab.research.google.com/github/mtsilimos/NLP-projects/blob/main/4-Keras_for_researchersVARIABLES1.ipynb\" target=\"_parent\"><img src=\"https://colab.research.google.com/assets/colab-badge.svg\" alt=\"Open In Colab\"/></a>"
      ]
    },
    {
      "cell_type": "code",
      "execution_count": 6,
      "metadata": {
        "colab": {
          "base_uri": "https://localhost:8080/"
        },
        "id": "1-Qrv29_Yt9L",
        "outputId": "1e3468b6-c68c-4f5a-ca25-ee3ae7e38708"
      },
      "outputs": [
        {
          "output_type": "execute_result",
          "data": {
            "text/plain": [
              "<tf.Variable 'Variable:0' shape=(3, 3) dtype=float32, numpy=\n",
              "array([[ 0.343029  , -0.12691446, -0.00307076],\n",
              "       [ 1.1886809 , -0.3977517 , -0.13418663],\n",
              "       [-0.92894435, -0.57588947, -0.23836361]], dtype=float32)>"
            ]
          },
          "metadata": {},
          "execution_count": 6
        }
      ],
      "source": [
        "#Variables are special tensors used to store mutable state (such as the weights of a neural network)\n",
        "#You create a Variable using some initial value\n",
        "import tensorflow as tf\n",
        "import keras\n",
        "\n",
        "initial_value = tf.random.normal(shape = (3, 3))\n",
        "a = tf.Variable(initial_value) #Variable is an attribute\n",
        "a"
      ]
    },
    {
      "cell_type": "code",
      "source": [],
      "metadata": {
        "id": "-d80UPuHZQba"
      },
      "execution_count": null,
      "outputs": []
    }
  ]
}