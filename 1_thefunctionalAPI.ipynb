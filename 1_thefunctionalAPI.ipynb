{
  "nbformat": 4,
  "nbformat_minor": 0,
  "metadata": {
    "colab": {
      "provenance": [],
      "gpuType": "T4",
      "authorship_tag": "ABX9TyNRkrCKq0dugBFx1ptmzQXt",
      "include_colab_link": true
    },
    "kernelspec": {
      "name": "python3",
      "display_name": "Python 3"
    },
    "language_info": {
      "name": "python"
    },
    "accelerator": "GPU"
  },
  "cells": [
    {
      "cell_type": "markdown",
      "metadata": {
        "id": "view-in-github",
        "colab_type": "text"
      },
      "source": [
        "<a href=\"https://colab.research.google.com/github/mtsilimos/NLP-projects/blob/main/1_thefunctionalAPI.ipynb\" target=\"_parent\"><img src=\"https://colab.research.google.com/assets/colab-badge.svg\" alt=\"Open In Colab\"/></a>"
      ]
    },
    {
      "cell_type": "code",
      "source": [
        "import numpy as np\n",
        "import tensorflow as tf\n",
        "import keras\n",
        "from keras import layers"
      ],
      "metadata": {
        "id": "Ix6s6a6c2vvO"
      },
      "execution_count": 18,
      "outputs": []
    },
    {
      "cell_type": "code",
      "source": [
        "#The functional API can handle models with non-linear topology\n",
        "#shared layers, and even multiple inputs or outputs.\n",
        "\n",
        "#The main idea is that a deep learning model is usually a directed acyclic graph (DAG) of layers\n",
        "#So the functional API is a way to build graphs of layers\n",
        "\n",
        "#In graph theory, a graph refers to a set of vertices which are connected by lines called edges.\n",
        "#In a directed graph or a digraph, each edge is associated with a direction from a start vertex to an end vertex.\n",
        "#If we traverse along the direction of the edges and we find that no closed loops are formed along any path,\n",
        "#we say that there are no directed cycles. The graph formed is a directed acyclic graph.\n",
        "\n",
        "#A DAG is always topologically ordered, i.e. for each edge in the graph,\n",
        "#the start vertex of the edge occurs earlier in the sequence than the ending vertex of the edge.\n",
        "#In the directed graph, if we find the paths from any node, say u, we will never find a path that come back to u.\n",
        "#Hence, this is a DAG."
      ],
      "metadata": {
        "id": "APJ_1lMs309P"
      },
      "execution_count": 19,
      "outputs": []
    }
  ]
}